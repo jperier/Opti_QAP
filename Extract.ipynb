{
 "cells": [
  {
   "cell_type": "markdown",
   "metadata": {},
   "source": [
    "# Extracting data"
   ]
  },
  {
   "cell_type": "code",
   "execution_count": 1,
   "metadata": {},
   "outputs": [],
   "source": [
    "from emplacement import Emplacement\n",
    "from equipment import Equipment\n",
    "path = \"data/tai12a.dat\""
   ]
  },
  {
   "cell_type": "code",
   "execution_count": 2,
   "metadata": {},
   "outputs": [
    {
     "name": "stdout",
     "output_type": "stream",
     "text": [
      "n= 12\n"
     ]
    }
   ],
   "source": [
    "lines = []\n",
    "with open(path, 'r') as f:\n",
    "    for line in f:\n",
    "        lines.append(line)    \n",
    "        \n",
    "n = int(lines[0].replace(' ', '').replace('\\n', ''))\n",
    "print('n=',n)\n",
    "\n",
    "emplacements = []\n",
    "equipments = []\n",
    "\n",
    "i=0\n",
    "for line in lines:\n",
    "    if(len(line)>n):\n",
    "        if(i<n):\n",
    "            emplacements.append(Emplacement(i, line, n))\n",
    "        else:\n",
    "            equipments.append(Equipment(i-n, line, n))\n",
    "        i+=1"
   ]
  },
  {
   "cell_type": "code",
   "execution_count": 3,
   "metadata": {},
   "outputs": [
    {
     "name": "stdout",
     "output_type": "stream",
     "text": [
      "[Emplacement id = 0\n",
      "\tDistances:{1: 27, 2: 85, 3: 2, 4: 1, 5: 15, 6: 11, 7: 35, 8: 11, 9: 20, 10: 21, 11: 61}\n",
      "\tEquipment:None\n",
      ", Emplacement id = 1\n",
      "\tDistances:{0: 27, 2: 80, 3: 58, 4: 21, 5: 76, 6: 72, 7: 44, 8: 85, 9: 94, 10: 90, 11: 51}\n",
      "\tEquipment:None\n",
      ", Emplacement id = 2\n",
      "\tDistances:{0: 85, 1: 80, 3: 3, 4: 48, 5: 29, 6: 90, 7: 66, 8: 41, 9: 15, 10: 83, 11: 96}\n",
      "\tEquipment:None\n",
      ", Emplacement id = 3\n",
      "\tDistances:{0: 2, 1: 58, 2: 3, 4: 74, 5: 45, 6: 65, 7: 40, 8: 54, 9: 83, 10: 14, 11: 71}\n",
      "\tEquipment:None\n",
      ", Emplacement id = 4\n",
      "\tDistances:{0: 1, 1: 21, 2: 48, 3: 74, 5: 77, 6: 36, 7: 53, 8: 37, 9: 26, 10: 87, 11: 76}\n",
      "\tEquipment:None\n",
      ", Emplacement id = 5\n",
      "\tDistances:{0: 15, 1: 76, 2: 29, 3: 45, 4: 77, 6: 91, 7: 13, 8: 29, 9: 11, 10: 77, 11: 32}\n",
      "\tEquipment:None\n",
      ", Emplacement id = 6\n",
      "\tDistances:{0: 11, 1: 72, 2: 90, 3: 65, 4: 36, 5: 91, 7: 87, 8: 67, 9: 94, 10: 79, 11: 2}\n",
      "\tEquipment:None\n",
      ", Emplacement id = 7\n",
      "\tDistances:{0: 35, 1: 44, 2: 66, 3: 40, 4: 53, 5: 13, 6: 87, 8: 10, 9: 99, 10: 56, 11: 70}\n",
      "\tEquipment:None\n",
      ", Emplacement id = 8\n",
      "\tDistances:{0: 11, 1: 85, 2: 41, 3: 54, 4: 37, 5: 29, 6: 67, 7: 10, 9: 99, 10: 60, 11: 4}\n",
      "\tEquipment:None\n",
      ", Emplacement id = 9\n",
      "\tDistances:{0: 20, 1: 94, 2: 15, 3: 83, 4: 26, 5: 11, 6: 94, 7: 99, 8: 99, 10: 56, 11: 2}\n",
      "\tEquipment:None\n",
      ", Emplacement id = 10\n",
      "\tDistances:{0: 21, 1: 90, 2: 83, 3: 14, 4: 87, 5: 77, 6: 79, 7: 56, 8: 60, 9: 56, 11: 60}\n",
      "\tEquipment:None\n",
      ", Emplacement id = 11\n",
      "\tDistances:{0: 61, 1: 51, 2: 96, 3: 71, 4: 76, 5: 32, 6: 2, 7: 70, 8: 4, 9: 2, 10: 60}\n",
      "\tEquipment:None\n",
      "]\n"
     ]
    }
   ],
   "source": [
    "print(emplacements)"
   ]
  },
  {
   "cell_type": "code",
   "execution_count": null,
   "metadata": {},
   "outputs": [],
   "source": []
  }
 ],
 "metadata": {
  "kernelspec": {
   "display_name": "Python 3",
   "language": "python",
   "name": "python3"
  },
  "language_info": {
   "codemirror_mode": {
    "name": "ipython",
    "version": 3
   },
   "file_extension": ".py",
   "mimetype": "text/x-python",
   "name": "python",
   "nbconvert_exporter": "python",
   "pygments_lexer": "ipython3",
   "version": "3.6.5"
  }
 },
 "nbformat": 4,
 "nbformat_minor": 2
}
